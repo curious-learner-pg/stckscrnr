{
 "cells": [
  {
   "cell_type": "code",
   "execution_count": 33,
   "metadata": {},
   "outputs": [
    {
     "name": "stdout",
     "output_type": "stream",
     "text": [
      "287\n"
     ]
    }
   ],
   "source": [
    "\n",
    "import requests \n",
    "ltp = requests.get('https://www.google.com/finance/getprices?q=VEDL&x=NSE&i=15&p=1d&f=d,c,v').text.split('\\n')[-2:-1][0].split(',')[1]\n",
    "print(ltp)\n"
   ]
  },
  {
   "cell_type": "code",
   "execution_count": 32,
   "metadata": {},
   "outputs": [
    {
     "data": {
      "text/plain": [
       "array([1587.15, 1559.6 , 1545.4 , 1567.65, 1562.  , 1565.3 , 1561.65,\n",
       "       1571.35, 1573.5 , 1586.95, 1576.5 , 1536.45, 1524.95, 1533.55,\n",
       "       1539.15, 1541.3 , 1553.25, 1552.35, 1530.  , 1554.8 , 1536.95,\n",
       "       1507.5 , 1524.  , 1533.15, 1528.55, 1549.4 , 1558.4 , 1554.8 ,\n",
       "       1562.9 , 1567.95, 1603.15, 1612.  , 1575.35, 1559.9 , 1531.85,\n",
       "       1544.95, 1575.2 , 1595.3 , 1606.15, 1633.8 , 1623.05, 1632.8 ,\n",
       "       1661.05, 1651.45, 1632.35, 1645.25, 1640.35, 1633.7 , 1650.6 ,\n",
       "       1621.3 , 1629.7 , 1651.55, 1660.95, 1693.25, 1587.4 , 1618.95,\n",
       "       1641.15, 1679.8 , 1737.  , 1715.25, 1728.1 , 1738.7 , 1726.4 ,\n",
       "       1737.5 , 1790.15, 1827.2 , 1829.5 , 1839.  , 1840.5 , 1850.25,\n",
       "       1830.  , 1804.95, 1802.1 , 1816.55, 1812.05, 1825.  , 1809.95,\n",
       "       1801.35, 1774.6 , 1743.2 , 1731.35, 1758.4 , 1748.65, 1735.8 ,\n",
       "       1742.1 , 1721.65, 1738.85, 1727.2 , 1730.3 , 1696.85, 1696.5 ,\n",
       "       1688.2 , 1706.  , 1710.25, 1732.8 , 1746.95, 1703.45, 1690.1 ,\n",
       "       1698.2 , 1694.05, 1676.65, 1667.9 , 1682.5 , 1681.25, 1693.3 ,\n",
       "       1697.7 , 1712.25, 1722.25, 1705.3 , 1707.05, 1763.05, 1795.65,\n",
       "       1770.85, 1743.05, 1756.75, 1754.3 , 1760.6 , 1787.8 , 1790.  ,\n",
       "       1803.7 , 1805.2 , 1799.4 , 1823.35, 1809.5 , 1819.55, 1783.15,\n",
       "       1782.45, 1801.2 , 1777.7 , 1781.  , 1765.15, 1783.75, 1792.5 ,\n",
       "       1789.7 , 1770.05, 1741.05, 1715.45, 1734.05, 1728.15, 1739.6 ,\n",
       "       1700.15, 1651.05, 1647.15, 1656.9 , 1645.85, 1589.75, 1632.1 ,\n",
       "       1632.65, 1688.3 , 1749.8 , 1786.05, 1817.2 , 1825.85, 1820.7 ,\n",
       "       1844.85, 1843.75, 1851.25, 1797.55, 1791.25, 1786.75, 1807.1 ,\n",
       "       1804.95, 1771.1 , 1818.05, 1800.25, 1811.2 , 1801.5 , 1815.7 ,\n",
       "       1781.5 , 1801.9 , 1789.3 , 1792.6 , 1794.3 , 1780.1 , 1811.2 ,\n",
       "       1784.8 , 1760.55, 1776.7 , 1819.5 , 1812.15, 1817.35, 1813.35,\n",
       "       1810.6 , 1772.1 , 1737.75, 1733.2 , 1731.2 , 1732.  , 1706.35,\n",
       "       1726.1 , 1724.85, 1708.6 , 1712.  , 1734.6 , 1759.5 , 1747.4 ,\n",
       "       1755.1 , 1703.55, 1705.95, 1650.8 ])"
      ]
     },
     "execution_count": 32,
     "metadata": {},
     "output_type": "execute_result"
    }
   ],
   "source": [
    "import pandas as pd\n",
    "import numpy as np\n",
    "\n",
    "df = pd.read_csv('/home/stckscrnr/baseApp/app_db/FnOSTOCKS_DATA/A_stocks.list.csv')\n",
    "\n",
    "df['TIMESTAMP'] =pd.to_datetime(df.TIMESTAMP)\n",
    "\n",
    "d15 = np.array(df[df.SYMBOL == 'ACC'][['SYMBOL','CLOSE','TIMESTAMP']].sort_values(by='TIMESTAMP',ascending=False).head(200)[['CLOSE']]).ravel()\t\t#casts df to numpy array, ravel() transforms nD array to 1D array\n",
    "#np.average(d15[0:10])\n",
    "d15\n",
    "\n",
    "\n",
    "\n"
   ]
  },
  {
   "cell_type": "code",
   "execution_count": 17,
   "metadata": {},
   "outputs": [],
   "source": [
    "import pandas as pd\n",
    "import numpy as np"
   ]
  },
  {
   "cell_type": "code",
   "execution_count": null,
   "metadata": {},
   "outputs": [],
   "source": []
  }
 ],
 "metadata": {
  "kernelspec": {
   "display_name": "Python 3",
   "language": "python",
   "name": "python3"
  },
  "language_info": {
   "codemirror_mode": {
    "name": "ipython",
    "version": 3
   },
   "file_extension": ".py",
   "mimetype": "text/x-python",
   "name": "python",
   "nbconvert_exporter": "python",
   "pygments_lexer": "ipython3",
   "version": "3.5.2"
  }
 },
 "nbformat": 4,
 "nbformat_minor": 2
}
